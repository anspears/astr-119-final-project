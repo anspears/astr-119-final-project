{
 "cells": [
  {
   "cell_type": "markdown",
   "metadata": {},
   "source": [
    "### Importing necessary modules"
   ]
  },
  {
   "cell_type": "code",
   "execution_count": null,
   "metadata": {},
   "outputs": [],
   "source": [
    "%matplotlib inline\n",
    "import numpy as np\n",
    "import matplotlib.pyplot as plt\n",
    "import astropy\n",
    "import sep\n",
    "from astropy.io import fits\n",
    "from matplotlib import rcParams\n",
    "\n",
    "rcParams['figure.figsize']=[10.,8.]"
   ]
  },
  {
   "cell_type": "code",
   "execution_count": null,
   "metadata": {},
   "outputs": [],
   "source": [
    "#reading the image into a 2-d np array\n",
    "data = astropy.io.fits.getdata(\"hlsp_hudf12_hst_wfc3ir_udfmain_f105w_v1.0_drz.fits\")\n",
    "data = data.byteswap().newbyteorder()"
   ]
  },
  {
   "cell_type": "code",
   "execution_count": null,
   "metadata": {},
   "outputs": [],
   "source": [
    "check_info_to_convertAB = 'hlsp_hudf12_hst_wfc3ir_udfmain_f105w_v1.0_drz.fits'\n",
    "hdu_list = fits.open(check_info_to_convertAB)\n",
    "hdu_list.info()\n",
    "image_data = hdu_list[0].data\n",
    "image_header = hdu_list[0].header\n",
    "print(image_header)"
   ]
  },
  {
   "cell_type": "code",
   "execution_count": null,
   "metadata": {},
   "outputs": [],
   "source": [
    "#show the image\n",
    "m, s = np.mean(data), np.std(data)\n",
    "plt.imshow(data, interpolation='nearest', cmap='gray', vmin=m-s, vmax=m+s, origin='lower')\n",
    "plt.colorbar();"
   ]
  },
  {
   "cell_type": "code",
   "execution_count": null,
   "metadata": {},
   "outputs": [],
   "source": [
    "#measure a spatially varying background on the image\n",
    "\n",
    "bkg = sep.Background(data)"
   ]
  },
  {
   "cell_type": "code",
   "execution_count": null,
   "metadata": {},
   "outputs": [],
   "source": [
    "#get a \"global\" mean and noise of the image background:\n",
    "print(bkg.globalback)\n",
    "print(bkg.globalrms)"
   ]
  },
  {
   "cell_type": "code",
   "execution_count": null,
   "metadata": {},
   "outputs": [],
   "source": [
    "#evaluate the background as 2-d array, same size as original image\n",
    "#bkg_image = bkg.back()\n",
    "bkg_image = np.array(bkg)"
   ]
  },
  {
   "cell_type": "code",
   "execution_count": null,
   "metadata": {},
   "outputs": [],
   "source": [
    "#show the background\n",
    "plt.imshow(bkg_image, interpolation='nearest', cmap='gray', origin='lower')\n",
    "plt.colorbar();"
   ]
  },
  {
   "cell_type": "code",
   "execution_count": null,
   "metadata": {},
   "outputs": [],
   "source": [
    "#evaluate the background noise as 2-d array, ssame size as original image\n",
    "bkg_rms = bkg.rms()"
   ]
  },
  {
   "cell_type": "code",
   "execution_count": null,
   "metadata": {},
   "outputs": [],
   "source": [
    "#show the background noise\n",
    "plt.imshow(bkg_rms, interpolation='nearest', cmap='gray', origin='lower')\n",
    "plt.colorbar();"
   ]
  },
  {
   "cell_type": "code",
   "execution_count": null,
   "metadata": {},
   "outputs": [],
   "source": [
    "#background subtraction\n",
    "data_sub = data - bkg"
   ]
  },
  {
   "cell_type": "code",
   "execution_count": null,
   "metadata": {},
   "outputs": [],
   "source": [
    "objects = sep.extract(data_sub, 1.5, err=bkg.globalrms)"
   ]
  },
  {
   "cell_type": "markdown",
   "metadata": {},
   "source": [
    "## This is how many sources!!! wowwww a lot"
   ]
  },
  {
   "cell_type": "code",
   "execution_count": null,
   "metadata": {},
   "outputs": [],
   "source": [
    "#how many objects that are detected by the abve by taking the length of the array\n",
    "len(objects)"
   ]
  },
  {
   "cell_type": "code",
   "execution_count": null,
   "metadata": {},
   "outputs": [],
   "source": [
    "from matplotlib.patches import Ellipse\n",
    "\n",
    "#plot the background subtracted image\n",
    "fig, ax = plt.subplots()\n",
    "m, s = np.mean(data_sub), np.std(data_sub)\n",
    "im = ax.imshow(data_sub, interpolation='nearest', cmap='gray', vmin=m-s, vmax=m+s, origin='lower')\n",
    "\n",
    "#plot an ellipse for each object\n",
    "for i in range(len(objects)):\n",
    "    e = Ellipse(xy=(objects['x'][i],objects['y'][i]),\n",
    "                width=6*objects['a'][i],\n",
    "                height=6*objects['b'][i],\n",
    "                angle=objects['theta'][i] * 180./np.pi)\n",
    "    e.set_facecolor('none')\n",
    "    e.set_edgecolor('yellow')\n",
    "    ax.add_artist(e)"
   ]
  },
  {
   "cell_type": "markdown",
   "metadata": {},
   "source": [
    "# Spongebob Galaxy Pants"
   ]
  },
  {
   "cell_type": "code",
   "execution_count": null,
   "metadata": {},
   "outputs": [],
   "source": [
    "#available fields\n",
    "objects.dtype.names"
   ]
  },
  {
   "cell_type": "markdown",
   "metadata": {},
   "source": [
    "## Aperture photometry"
   ]
  },
  {
   "cell_type": "code",
   "execution_count": null,
   "metadata": {},
   "outputs": [],
   "source": [
    "#set 1-d arrays with 1 element each\n",
    "flux, fluxerr, flag = sep.sum_circle(data_sub, objects['x'], objects['y'], 3.0, err=bkg.globalrms, gain=1.0)"
   ]
  },
  {
   "cell_type": "code",
   "execution_count": null,
   "metadata": {},
   "outputs": [],
   "source": [
    "#show the first 10 objects results:\n",
    "for i in range(10):\n",
    "    print(\"object {:d}: flux = {:F} +/- {:f}\".format(i, flux[i], fluxerr[i]))"
   ]
  },
  {
   "cell_type": "code",
   "execution_count": null,
   "metadata": {},
   "outputs": [],
   "source": [
    "print(flux)"
   ]
  },
  {
   "cell_type": "markdown",
   "metadata": {},
   "source": [
    "## Converting flux to AB magnitude units\n",
    "So we found the formula below that is commented out first, but then the professor told us to use the other website, which we had to do some digging to find the value to add on, and Michelle added a .jpg of that chart. We also had to use a forloop to make the flux values all positive. The correction is from another chart, the corrections for all the different filters were about the same."
   ]
  },
  {
   "cell_type": "code",
   "execution_count": null,
   "metadata": {},
   "outputs": [],
   "source": [
    "\n",
    "# Convert flux to AB magnitude units\n",
    "#flux = -2.5*np.log10(flux/3631)\n",
    "#print(flux)"
   ]
  },
  {
   "cell_type": "code",
   "execution_count": null,
   "metadata": {},
   "outputs": [],
   "source": [
    "correction_inf = 0.877\n",
    "flux_inf = flux/correction_inf\n",
    "\n",
    "for i in range(len(flux)):\n",
    "    if flux_inf[i]>0:\n",
    "        n = -2.5*np.log10(flux_inf[i]) + 26.2687\n",
    "        flux[i] = n\n",
    "        #print(n)\n",
    "    elif flux_inf[i]<0:\n",
    "        n = -2.5 * np.log10(-flux_inf[i]) + 26.2687\n",
    "        flux[i] = n\n",
    "        #print(n)"
   ]
  },
  {
   "cell_type": "code",
   "execution_count": null,
   "metadata": {},
   "outputs": [],
   "source": [
    "#m_ab = -2.5 * np.log10(flux) + 26.2687\n",
    "#this is commented out because of the negative values, corrected by the above for loop"
   ]
  },
  {
   "cell_type": "code",
   "execution_count": null,
   "metadata": {},
   "outputs": [],
   "source": [
    "#n_bins=10\n",
    "#plot a histogram by flattening the data from the 2-d array to a 1-d numpy array\n",
    "histogram = plt.hist(flux, bins='auto')"
   ]
  },
  {
   "cell_type": "markdown",
   "metadata": {},
   "source": [
    "## RGB false image\n",
    "I just used the make lupton module"
   ]
  },
  {
   "cell_type": "code",
   "execution_count": null,
   "metadata": {},
   "outputs": [],
   "source": [
    "from astropy.visualization import make_lupton_rgb"
   ]
  },
  {
   "cell_type": "code",
   "execution_count": null,
   "metadata": {},
   "outputs": [],
   "source": [
    "\n",
    "image_f105w = \"hlsp_hudf12_hst_wfc3ir_udfmain_f105w_v1.0_drz.fits\"\n",
    "image_f125w = \"hlsp_hudf12_hst_wfc3ir_udfmain_f125w_v1.0_drz.fits\"\n",
    "image_f160w = \"hlsp_hudf12_hst_wfc3ir_udfmain_f160w_v1.0_drz.fits\"\n",
    "f105w_data = fits.getdata(image_f105w)\n",
    "f125w_data = fits.getdata(image_f125w)\n",
    "f160w_data = fits.getdata(image_f160w)"
   ]
  },
  {
   "cell_type": "code",
   "execution_count": null,
   "metadata": {},
   "outputs": [],
   "source": [
    "# Create the png file and plot the rgb image\n",
    "\n",
    "rgb_image = make_lupton_rgb(f160w_data,f125w_data,f105w_data,\n",
    "                           filename=\"hduf_rgb_false_image.png\")\n",
    "plt.imshow(rgb_image, interpolation='nearest', vmin=m-s,vmax=m+s, origin='lower')\n",
    "plt.colorbar()"
   ]
  },
  {
   "cell_type": "code",
   "execution_count": null,
   "metadata": {},
   "outputs": [],
   "source": [
    "#Adjusting image so we can actually see it\n",
    "# Q adjusts smoothness and stretch zooms in\n",
    "\n",
    "rgb = make_lupton_rgb(f160w_data,f125w_data,f105w_data, Q=0.2, stretch=0.005,\n",
    "                     filename='hduf_rbg_false_image(adjusted).png')\n",
    "\n",
    "# Plot the new image\n",
    "plt.imshow(rgb, origin='lower')\n",
    "plt.colorbar()"
   ]
  },
  {
   "cell_type": "code",
   "execution_count": null,
   "metadata": {},
   "outputs": [],
   "source": [
    "#plotting just a portion of the above image\n",
    "\n",
    "rgb = make_lupton_rgb(f160w_data[1000:2500,1000:2500],\n",
    "                     f125w_data[1000:2500,1000:2500],\n",
    "                     f105w_data[1000:2500, 1000:2500],\n",
    "                     Q=0.02, stretch=0.005,\n",
    "                     filename='hduf_rbg_false_image(zoomed).png')\n",
    "plt.imshow(rgb, origin='lower')\n",
    "plt.colorbar()"
   ]
  },
  {
   "cell_type": "code",
   "execution_count": null,
   "metadata": {},
   "outputs": [],
   "source": []
  }
 ],
 "metadata": {
  "kernelspec": {
   "display_name": "Python 3",
   "language": "python",
   "name": "python3"
  },
  "language_info": {
   "codemirror_mode": {
    "name": "ipython",
    "version": 3
   },
   "file_extension": ".py",
   "mimetype": "text/x-python",
   "name": "python",
   "nbconvert_exporter": "python",
   "pygments_lexer": "ipython3",
   "version": "3.7.3"
  }
 },
 "nbformat": 4,
 "nbformat_minor": 4
}
